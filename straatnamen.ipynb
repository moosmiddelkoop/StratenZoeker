{
 "cells": [
  {
   "cell_type": "code",
   "execution_count": 25,
   "id": "781d9389",
   "metadata": {},
   "outputs": [],
   "source": [
    "!pip install --quiet pandas\n",
    "import pandas as pd"
   ]
  },
  {
   "cell_type": "code",
   "execution_count": 26,
   "id": "48f57f9d",
   "metadata": {},
   "outputs": [
    {
     "name": "stdout",
     "output_type": "stream",
     "text": [
      "x var/www/PersonalUtils/storage/repos/postcodes/data/adressen.csv\n"
     ]
    }
   ],
   "source": [
    "# unzip adresse.tar.xz\n",
    "!tar --keep-old-files -xvf adressen.tar.xz\n",
    "\n",
    "df = pd.read_csv('./var/www/PersonalUtils/storage/repos/postcodes/data/adressen.csv', sep=',', header=0)\n",
    "df = df.drop_duplicates(subset=['woonplaats', 'straat'], keep='first')\n"
   ]
  },
  {
   "cell_type": "code",
   "execution_count": 27,
   "id": "c5b34020",
   "metadata": {},
   "outputs": [
    {
     "data": {
      "text/html": [
       "<div>\n",
       "<style scoped>\n",
       "    .dataframe tbody tr th:only-of-type {\n",
       "        vertical-align: middle;\n",
       "    }\n",
       "\n",
       "    .dataframe tbody tr th {\n",
       "        vertical-align: top;\n",
       "    }\n",
       "\n",
       "    .dataframe thead th {\n",
       "        text-align: right;\n",
       "    }\n",
       "</style>\n",
       "<table border=\"1\" class=\"dataframe\">\n",
       "  <thead>\n",
       "    <tr style=\"text-align: right;\">\n",
       "      <th></th>\n",
       "      <th>postcode</th>\n",
       "      <th>huisnummer</th>\n",
       "      <th>straat</th>\n",
       "      <th>buurt</th>\n",
       "      <th>wijk</th>\n",
       "      <th>woonplaats</th>\n",
       "      <th>gemeente</th>\n",
       "      <th>provincie</th>\n",
       "      <th>latitude</th>\n",
       "      <th>longitude</th>\n",
       "      <th>hit</th>\n",
       "    </tr>\n",
       "  </thead>\n",
       "  <tbody>\n",
       "    <tr>\n",
       "      <th>751204</th>\n",
       "      <td>1271CV</td>\n",
       "      <td>1</td>\n",
       "      <td>Alaskastroom</td>\n",
       "      <td>Gooierhoofd</td>\n",
       "      <td>Wijk 05 Havengebied</td>\n",
       "      <td>Huizen</td>\n",
       "      <td>Huizen</td>\n",
       "      <td>Noord-Holland</td>\n",
       "      <td>52.307812</td>\n",
       "      <td>5.250303</td>\n",
       "      <td>True</td>\n",
       "    </tr>\n",
       "    <tr>\n",
       "      <th>3810318</th>\n",
       "      <td>3404WC</td>\n",
       "      <td>2</td>\n",
       "      <td>Alaskahof</td>\n",
       "      <td>De Hoven en De Boomgaard</td>\n",
       "      <td>Wijk 00 IJsselstein</td>\n",
       "      <td>IJsselstein</td>\n",
       "      <td>IJsselstein</td>\n",
       "      <td>Utrecht</td>\n",
       "      <td>52.009420</td>\n",
       "      <td>5.045154</td>\n",
       "      <td>True</td>\n",
       "    </tr>\n",
       "  </tbody>\n",
       "</table>\n",
       "</div>"
      ],
      "text/plain": [
       "        postcode huisnummer        straat                     buurt  \\\n",
       "751204    1271CV          1  Alaskastroom               Gooierhoofd   \n",
       "3810318   3404WC          2     Alaskahof  De Hoven en De Boomgaard   \n",
       "\n",
       "                        wijk   woonplaats     gemeente      provincie  \\\n",
       "751204   Wijk 05 Havengebied       Huizen       Huizen  Noord-Holland   \n",
       "3810318  Wijk 00 IJsselstein  IJsselstein  IJsselstein        Utrecht   \n",
       "\n",
       "          latitude  longitude   hit  \n",
       "751204   52.307812   5.250303  True  \n",
       "3810318  52.009420   5.045154  True  "
      ]
     },
     "execution_count": 27,
     "metadata": {},
     "output_type": "execute_result"
    }
   ],
   "source": [
    "SEARCH = 'alaska' # change this to whatever you're looking for\n",
    "\n",
    "# find all '...' in straat\n",
    "def find(row):\n",
    "    if SEARCH in row['straat'].lower():\n",
    "        return True\n",
    "    else:\n",
    "        return False\n",
    "\n",
    "# apply the find function to each row in the dataframe\n",
    "df['hit'] = df.apply(find, axis=1)\n",
    "\n",
    "# print the rows where 'hit' is True\n",
    "df_hit = df[df['hit'] == True]\n",
    "df_hit\n"
   ]
  }
 ],
 "metadata": {
  "kernelspec": {
   "display_name": ".venv",
   "language": "python",
   "name": "python3"
  },
  "language_info": {
   "codemirror_mode": {
    "name": "ipython",
    "version": 3
   },
   "file_extension": ".py",
   "mimetype": "text/x-python",
   "name": "python",
   "nbconvert_exporter": "python",
   "pygments_lexer": "ipython3",
   "version": "3.11.11"
  }
 },
 "nbformat": 4,
 "nbformat_minor": 5
}
