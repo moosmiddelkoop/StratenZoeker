{
 "cells": [
  {
   "cell_type": "code",
   "execution_count": 38,
   "id": "781d9389",
   "metadata": {},
   "outputs": [],
   "source": [
    "!pip install --quiet pandas\n",
    "import pandas as pd"
   ]
  },
  {
   "cell_type": "markdown",
   "id": "27d8f4f5",
   "metadata": {},
   "source": [
    "## Load data"
   ]
  },
  {
   "cell_type": "code",
   "execution_count": null,
   "id": "48f57f9d",
   "metadata": {},
   "outputs": [],
   "source": [
    "# unzip adresse.tar.xz\n",
    "!tar --keep-old-files -xvf adressen.tar.xz\n",
    "\n",
    "df = pd.read_csv('./var/www/PersonalUtils/storage/repos/postcodes/data/adressen.csv', sep=',', header=0)\n",
    "df = df.drop_duplicates(subset=['woonplaats', 'straat'], keep='first')"
   ]
  },
  {
   "cell_type": "markdown",
   "id": "47687b00",
   "metadata": {},
   "source": [
    "## Search by straatnaam"
   ]
  },
  {
   "cell_type": "code",
   "execution_count": null,
   "id": "c5b34020",
   "metadata": {},
   "outputs": [],
   "source": [
    "SEARCH = 'duitsland' # change this to whatever you're looking for\n",
    "\n",
    "# find all '...' in straat\n",
    "def find(row):\n",
    "    if SEARCH.lower() == row['straat'].lower():\n",
    "        return True\n",
    "    else:\n",
    "        return False\n",
    "\n",
    "# apply the find function to each row in the dataframe\n",
    "df['hit'] = df.apply(find, axis=1)\n",
    "\n",
    "# print the rows where 'hit' is True\n",
    "df_hit = df[df['hit'] == True]\n",
    "df_hit\n"
   ]
  },
  {
   "cell_type": "markdown",
   "id": "9ae0751f",
   "metadata": {},
   "source": [
    "## Get list of all straten die de naam van een land hebben"
   ]
  },
  {
   "cell_type": "code",
   "execution_count": null,
   "id": "cc30b188",
   "metadata": {},
   "outputs": [],
   "source": [
    "landen = [\n",
    "    \"Abessinië\", \"Abu Dhabi\", \"Aden\", \"Afghanistan\", \"Ajman\", \"Albanië\", \"Algerije\", \"Amerikaanse Maagdeneilanden\",\n",
    "    \"Amerikaans-Samoa\", \"Andorra\", \"Angola\", \"Anguilla\", \"Antigua\", \"Antigua en Barbuda\", \"Argentinië\", \"Armenië\",\n",
    "    \"Aruba\", \"Ascension\", \"Australië\", \"Australisch Nieuw-Guinea\", \"Australische Salomonseilanden\", \"Azerbeidzjan\",\n",
    "    \"Azoren\", \"Bahama's\", \"Bahrein\", \"Bangladesh\", \"Barbados\", \"Basutoland\", \"Bechuanaland\", \"Belarus\", \"Belau\",\n",
    "    \"België\", \"Belgisch-Congo\", \"Belize\", \"Benin\", \"Bermuda\", \"Bhutan\", \"Bolivia\", \"Bonaire\", \"Bondsrepubliek Duitsland\",\n",
    "    \"Bosnië-Herzegovina\", \"Botswana\", \"Brazilië\", \"Brits Antarctisch Territorium\", \"Brits Indische Oceaanterritorium\",\n",
    "    \"Brits Noord-Borneo\", \"Brits Oost-Afrika\", \"Brits West-Borneo\", \"Brits West-Indië\", \"Brits-Afrika\", \"Brits-Borneo\",\n",
    "    \"Britse Antillen\", \"Britse Maagdeneilanden\", \"Britse Salomonseilanden\", \"Brits-Guyana\", \"Brits-Honduras\",\n",
    "    \"Brits-Indië\", \"Brits-Kameroen\", \"Brits-Somaliland\", \"Brunei\", \"Bulgarije\", \"Burkina Faso\", \"Burma\", \"Burundi\",\n",
    "    \"Cabinda\", \"Caicoseilanden\", \"Cambodja\", \"Canada\", \"Canarische Eilanden\", \"Canton en Enderbury\", \"Caymaneilanden\",\n",
    "    \"Centraal-Afrikaanse Republiek\", \"Ceylon\", \"Chili\", \"China\", \"Christmaseiland\", \"Cocoseilanden\", \"Colombia\",\n",
    "    \"Comoren\", \"Congo\", \"Congo-Brazzaville\", \"Congo-Kinshasa\", \"Cookeilanden\", \"Costa Rica\", \"Cuba\", \"Curaçao\", \"Cyprus\",\n",
    "    \"Dahomey\", \"Dantzig\", \"Democratische Republiek Congo\", \"Denemarken\", \"Djibouti\", \"Dominica\", \"Dominicaanse Republiek\",\n",
    "    \"Dubai\", \"Duits Oost-Afrika\", \"Duits Zuidwest-Afrika\", \"Duitse Democratische Republiek\", \"Duitsland\", \"Ecuador\",\n",
    "    \"Egypte\", \"El Salvador\", \"Equatoriaal-Guinea\", \"Eritrea\", \"Estland\", \"Eswatini\", \"Ethiopië\", \"Faeröer\",\n",
    "    \"Falklandeilanden\", \"Federale Republiek Joegoslavië\", \"Fiji\", \"Filipijnen\", \"Finland\", \"Frankrijk\",\n",
    "    \"Frans Equatoriaal-Afrika\", \"Frans Indochina\", \"Frans Territorium voor Afars en Issa's\", \"Frans West-Afrika\",\n",
    "    \"Frans-Congo\", \"Frans-Guyana\", \"Frans-Indië\", \"Frans-Kameroen\", \"Frans-Polynesië\", \"Frans-Somaliland\", \"Fujairah\",\n",
    "    \"Gabon\", \"Gambia\", \"Gazastrook en Westelijke Jordaanoever\", \"Georgië\", \"Ghana\", \"Gibraltar\",\n",
    "    \"Gilbert- en Ellice-eilanden\", \"Gilberteilanden\", \"Goa\", \"Goudkust\", \"Grenada\", \"Griekenland\", \"Groenland\",\n",
    "    \"Guadeloupe\", \"Guam\", \"Guatemala\", \"Guinee\", \"Guinee-Bissau\", \"Guyana\", \"Haïti\", \"Hawaii-eilanden\", \"Honduras\",\n",
    "    \"Hongarije\", \"Hongkong\", \"Ierland\", \"Ifni\", \"IJsland\", \"India\", \"Indochina\", \"Indonesië\", \"Internationaal gebied\",\n",
    "    \"Irak\", \"Iran\", \"Israël\", \"Italiaans-Somaliland\", \"Italië\", \"Ivoorkust\", \"Jamaica\", \"Japan\", \"Jemen\", \"Joegoslavië\",\n",
    "    \"Johnston\", \"Johore\", \"Jordanië\", \"Kaapverdië\", \"Kaapverdische Eilanden\", \"Kameroen\", \"Kanaaleilanden\", \"Kashmir\",\n",
    "    \"Kazachstan\", \"Kedah\", \"Keizer Wilhelmsland\", \"Kelantan\", \"Kenya\", \"Kirgizië\", \"Kiribati\", \"Koeweit\", \"Korea\",\n",
    "    \"Kosovo\", \"Kroatië\", \"Labuan\", \"Laos\", \"Leewardeilanden\", \"Lesotho\", \"Letland\", \"Libanon\", \"Liberia\", \"Libië\",\n",
    "    \"Liechtenstein\", \"Litouwen\", \"Luxemburg\", \"Macau\", \"Macedonië\", \"Madagaskar\", \"Madeira-eilanden\", \"Malakka\",\n",
    "    \"Malawi\", \"Maldiven\", \"Maleisië\", \"Mali\", \"Malta\", \"Man\", \"Marianen\", \"Marokko\", \"Marshalleilanden\", \"Martinique\",\n",
    "    \"Mauritanië\", \"Mauritius\", \"Mayotte\", \"Mexico\", \"Micronesia\", \"Midway\", \"Moldavië\", \"Monaco\", \"Mongolië\",\n",
    "    \"Montenegro\", \"Montserrat\", \"Mozambique\", \"Muscat en Oman\", \"Myanmar\", \"Namibië\", \"Nauru\", \"Nederland\",\n",
    "    \"Nederlands Nieuw-Guinea\", \"Nederlandse Antillen\", \"Nederlands-Indië\", \"Negri Sembilan\", \"Nepal\", \"Newfoundland\",\n",
    "    \"Nicaragua\", \"Nieuw-Caledonië\", \"Nieuwe Hebriden\", \"Nieuw-Zeeland\", \"Niger\", \"Nigeria\", \"Niue\", \"Noord-Jemen\",\n",
    "    \"Noord-Korea\", \"Noord-Rhodesië\", \"Noord-Vietnam\", \"Noorwegen\", \"Norfolk\", \"Nyasaland\", \"Oekraïne\", \"Oezbekistan\",\n",
    "    \"Oman\", \"Onbekend\", \"Oostenrijk\", \"Oostenrijk-Hongarije\", \"Opper-Volta\", \"Pacific-eilanden\", \"Pahang\", \"Pakistan\",\n",
    "    \"Palau\", \"Palestina\", \"Panama\", \"Panamakanaalzone\", \"Papoea-Nieuw-Guinea\", \"Paraguay\", \"Perak\", \"Perlis\", \"Peru\",\n",
    "    \"Phoenixeilanden\", \"Pitcairneilanden\", \"Polen\", \"Portugal\", \"Portugees Oost-Afrika\", \"Portugees West-Afrika\",\n",
    "    \"Portugees-Afrika\", \"Portugees-Guinee\", \"Portugees-Indië\", \"Portugees-Timor\", \"Puerto Rico\", \"Qatar\",\n",
    "    \"Ras al-Khaimah\", \"Republiek Noord-Macedonië\", \"Réunion\", \"Rhodesië\", \"Riukiu-eilanden\", \"Roemenië\",\n",
    "    \"Ruanda-Urundi\", \"Rusland\", \"Rusland (oud)\", \"Rwanda\", \"Saarland\", \"Saba\", \"Sabah\", \"Saint Kitts en Nevis\",\n",
    "    \"Saint Kitts, Nevis en Anguilla\", \"Saint Lucia\", \"Saint Pierre en Miquelon\", \"Saint Vincent\",\n",
    "    \"Saint Vincent en de Grenadines\", \"Salomonseilanden\", \"Samoa\", \"San Marino\", \"São Tomé en Principe\",\n",
    "    \"Saoedi-Arabië\", \"Sarawak\", \"Selangor\", \"Senegal\", \"Servië\", \"Servië en Montenegro\", \"Seychellen\",\n",
    "    \"Seychellen en Amiranten\", \"Sharjah\", \"Siam\", \"Sierra Leone\", \"Sikkim\", \"Singapore\", \"Sint Eustatius\",\n",
    "    \"Sint Maarten\", \"Sint-Helena\", \"Slovenië\", \"Slowakije\", \"Soedan\", \"Somalië\", \"Sovjet-Unie\", \"Spaans Noord-Afrika\",\n",
    "    \"Spaanse Sahara\", \"Spaans-Guinee\", \"Spanje\", \"Spitsbergen\", \"Sri Lanka\", \"Straits Settlements\", \"Suriname\",\n",
    "    \"Svalbardeilanden\", \"Swaziland\", \"Syrië\", \"Tadzjikistan\", \"Taiwan\", \"Tanganyika\", \"Tanzania\", \"Tasmanië\",\n",
    "    \"Thailand\", \"Tibet\", \"Timor Leste\", \"Togo\", \"Tokelau\", \"Tonga\", \"Transjordanië\", \"Trengganu\",\n",
    "    \"Trinidad en Tobago\", \"Tristan Da Cunha\", \"Trucial Oman\", \"Tsjaad\", \"Tsjechië\", \"Tsjecho-Slowakije\", \"Tunesië\",\n",
    "    \"Turkije\", \"Turkmenistan\", \"Turks- en Caicoseilanden\", \"Turkseilanden\", \"Tuvalu\", \"Uganda\", \"Umm Al-Qaiwain\",\n",
    "    \"Uruguay\", \"Urundi\", \"Vanuatu\", \"Vaticaanstad\", \"Venezuela\", \"Verenigd Koninkrijk\", \"Verenigde Arabische Emiraten\",\n",
    "    \"Verenigde Arabische Republiek\", \"Verenigde Staten van Amerika\", \"Vietnam\", \"Wake\", \"Wallis en Futuna\",\n",
    "    \"Westelijke Sahara\", \"West-Samoa\", \"Windwardeilanden\", \"Zaïre\", \"Zambia\", \"Zanzibar\", \"Zimbabwe\", \"Zuid-Afrika\",\n",
    "    \"Zuid-Arabische Federatie\", \"Zuid-Jemen\", \"Zuid-Korea\", \"Zuid-Rhodesië\", \"Zuid-Soedan\", \"Zuid-Vietnam\",\n",
    "    \"Zuidwest-Afrika\", \"Zweden\", \"Zwitserland\"\n",
    "]\n",
    "\n",
    "for land in landen:\n",
    "    # find all '...' in straat\n",
    "    def find(row):\n",
    "        if land.lower() == row['straat'].lower():\n",
    "            return True\n",
    "        else:\n",
    "            return False\n",
    "\n",
    "    # apply the find function to each row in the dataframe\n",
    "    df['hit'] = df.apply(find, axis=1)\n",
    "\n",
    "    # print the rows where 'hit' is True\n",
    "    df_hit = df[df['hit'] == True]\n",
    "    print(f\"Land: {land}\")\n",
    "    print(df_hit)"
   ]
  }
 ],
 "metadata": {
  "kernelspec": {
   "display_name": "base",
   "language": "python",
   "name": "python3"
  },
  "language_info": {
   "codemirror_mode": {
    "name": "ipython",
    "version": 3
   },
   "file_extension": ".py",
   "mimetype": "text/x-python",
   "name": "python",
   "nbconvert_exporter": "python",
   "pygments_lexer": "ipython3",
   "version": "3.12.7"
  }
 },
 "nbformat": 4,
 "nbformat_minor": 5
}
